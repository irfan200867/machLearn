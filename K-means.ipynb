{
 "cells": [
  {
   "cell_type": "markdown",
   "metadata": {},
   "source": [
    "# (1) PRAKTIKUM CLUSTERING\n",
    "\n",
    "## NAMA:\n",
    "\n",
    "## NIM:\n",
    "\n",
    "***Catatan:***\n",
    "1. Praktikum bersifat individual, namun berdiskusi secukupnya di dalam grup masing-masing\n",
    "2. **Laporan final dalam format PDF** sebagai hasil konversi Notebook ke PDF dan disubmit di edunex. Bila ada slot informasi yang dapat dientry di edunex, tuliskan tautan ke Google Colab Notebook tersebut."
   ]
  },
  {
   "cell_type": "markdown",
   "metadata": {},
   "source": [
    "## Prinsip dasar (secara intuitif)\n",
    "1. **Pilih** (secara acak untuk loop pertama; tidak perlu dari dataset) atau **hitung** (mulai dari loop kedua) sebanyak *K* titik-titik pusat cluster\n",
    "2. Masukkan setiap titik dataset **hanya** ke salah satu cluster berdasarkan kriteria jarak terdekat ke titik-titik pusat cluster\n",
    "3. Catat pergeseran setiap titik pusat cluster (mulai dari loop kedua)\n",
    "4. Ulangi hingga konvergen\n",
    "\n",
    "## Potensi masalah pada nilai awal centroid yang acak\n",
    "1. Inisialisasi centroid acak tidak selamanya membawa sukses\n",
    "2. Pada praktikum ini akan dicoba langsung pakai KMeans++ sebagai solusi yang ditawarkan Scikit Learn \n",
    "\n",
    "## Metode siku (Elbow) untuk memilih jumlah cluster yang tepat\n",
    "**Within Cluster Sum of Squares** (**WCSS**, atau istilah lainnya adalah **inersia**) adalah jumlah kuadrat jarak setiap titik data ke cluster terdekat. WCSS pada awalnya bernilai sangat besar dan dapat terus mengecil dengan semakin bertambahnya nilai parameter jumlah cluster. Dalam plot, seringkali terlihat penurunan ini sangat signifikan serupa tekukan siku, dan setelahnya nilai WCSS terus menurun secara melandai menuju nilai 0. Sifat seperti ini memungkinkan kita untuk memutuskan bahwa pada titik siku tersebut peningkatan jumlah cluster tidak lagi menurunkan nilai WCSS secara signifikan. Di titik siku itulah titik ideal jumlah cluster dapat dipilih.\n",
    "\n",
    "__Dalam perspektif kalkulus: jumlah cluster ideal diperoleh dengan memaksimalkan turunan kedua dari WCSS__"
   ]
  },
  {
   "cell_type": "markdown",
   "metadata": {},
   "source": [
    "### Perhatian:\n",
    "Pada contoh kasus di bawah ini, akan dipelajari clustering pelanggan mall berdasarkan variabel ***penghasilan tahunan*** (indeks fitur ke-3) vs ***skor pengeluaran*** (indeks fitur ke-4)"
   ]
  },
  {
   "cell_type": "code",
   "execution_count": null,
   "metadata": {},
   "outputs": [],
   "source": [
    "import numpy as np\n",
    "import matplotlib.pyplot as plt\n",
    "import pandas as pd\n",
    "\n",
    "df = pd.read_csv('Mall_Customers.csv')\n",
    "X = df.iloc[:, [3, 4]].values\n",
    "\n",
    "# Cek tampilan beberapa baris atas dataframe\n",
    "df.head()"
   ]
  },
  {
   "cell_type": "markdown",
   "metadata": {},
   "source": [
    "#### Di sini kita akan menggunakan k-means++"
   ]
  },
  {
   "cell_type": "code",
   "execution_count": null,
   "metadata": {},
   "outputs": [],
   "source": [
    "from sklearn.cluster import KMeans\n",
    "\n",
    "fig = plt.figure(figsize=(10, 8))\n",
    "WCSS = []\n",
    "for i in range(1, 11):\n",
    "    clf = KMeans(n_clusters=i, init='k-means++', max_iter=300, n_init=10, random_state=0)\n",
    "    clf.fit(X)\n",
    "    WCSS.append(clf.inertia_) # inertia is another name for WCSS\n",
    "\n",
    "plt.plot(range(1, 11), WCSS)\n",
    "plt.title('Elbow Method')\n",
    "plt.ylabel('WCSS')\n",
    "plt.xlabel('Jumlah cluster')\n",
    "plt.show()"
   ]
  },
  {
   "cell_type": "markdown",
   "metadata": {},
   "source": [
    "#### Berdasarkan titik siku yang tampak di plot, berapakah jumlah cluster yang disarankan?\n",
    "*(Jawab dan tulis di sel ini: n_clusters = ...)*"
   ]
  },
  {
   "cell_type": "code",
   "execution_count": null,
   "metadata": {},
   "outputs": [],
   "source": [
    "clf = KMeans(n_clusters=..., init='k-means++', max_iter=300, n_init=10,  random_state=0)\n",
    "y_kmeans = clf.fit_predict(X)"
   ]
  },
  {
   "cell_type": "code",
   "execution_count": null,
   "metadata": {},
   "outputs": [],
   "source": [
    "fig = plt.figure(figsize=(10, 8))\n",
    "plt.scatter(X[y_kmeans == 0, 0], X[y_kmeans == 0, 1], color='red', s=60, label='Cluster 1', edgecolors='black')\n",
    "#plt.scatter(X[y_kmeans == 1, 0], X[y_kmeans == 1, 1], color='green', s=60, label='Cluster 2', edgecolors='black')\n",
    "#plt.scatter(X[y_kmeans == 2, 0], X[y_kmeans == 2, 1], color='blue',s=60, label='Cluster 3', edgecolors='black')\n",
    "#...\n",
    "#...\n",
    "# cluster centres\n",
    "plt.scatter(clf.cluster_centers_[:, 0], clf.cluster_centers_[:, 1], color='magenta', s=100, label='Centroid',edgecolors='black')\n",
    "plt.legend()\n",
    "plt.title('Clustering menggunakan K-Means')\n",
    "plt.ylabel('Pendapatan Tahunan (ribu dollar)')\n",
    "plt.xlabel('Skor Pengeluaran (1-100)')\n",
    "plt.show()"
   ]
  },
  {
   "cell_type": "markdown",
   "metadata": {},
   "source": [
    "### Tugas:\n",
    "\n",
    "Coba Anda temukan ide lain untuk clustering selain dari penghasilan tahunan vs skor pengeluaran. Kerjakan secara lengkap seperti contoh latihan di atas."
   ]
  },
  {
   "cell_type": "code",
   "execution_count": null,
   "metadata": {},
   "outputs": [],
   "source": []
  }
 ],
 "metadata": {
  "anaconda-cloud": {},
  "kernelspec": {
   "display_name": "Python 3 (ipykernel)",
   "language": "python",
   "name": "python3"
  },
  "language_info": {
   "codemirror_mode": {
    "name": "ipython",
    "version": 3
   },
   "file_extension": ".py",
   "mimetype": "text/x-python",
   "name": "python",
   "nbconvert_exporter": "python",
   "pygments_lexer": "ipython3",
   "version": "3.10.6"
  }
 },
 "nbformat": 4,
 "nbformat_minor": 1
}
